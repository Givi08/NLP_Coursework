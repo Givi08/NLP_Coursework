{
 "cells": [
  {
   "cell_type": "markdown",
   "metadata": {},
   "source": [
    "# Final Submission <br>\n",
    "Final submission for NLP Corsework \n"
   ]
  },
  {
   "cell_type": "markdown",
   "metadata": {},
   "source": [
    "## Imports"
   ]
  },
  {
   "cell_type": "code",
   "execution_count": 1,
   "metadata": {},
   "outputs": [],
   "source": [
    "import pandas as pd\n",
    "import numpy as np"
   ]
  },
  {
   "cell_type": "markdown",
   "metadata": {},
   "source": [
    "## Pre Procesing"
   ]
  },
  {
   "cell_type": "code",
   "execution_count": 2,
   "metadata": {},
   "outputs": [
    {
     "name": "stderr",
     "output_type": "stream",
     "text": [
      "[nltk_data] Downloading package stopwords to\n",
      "[nltk_data]     C:\\Users\\gs929\\AppData\\Roaming\\nltk_data...\n",
      "[nltk_data]   Package stopwords is already up-to-date!\n",
      "[nltk_data] Downloading package punkt to\n",
      "[nltk_data]     C:\\Users\\gs929\\AppData\\Roaming\\nltk_data...\n",
      "[nltk_data]   Package punkt is already up-to-date!\n"
     ]
    }
   ],
   "source": [
    "from pre_processing import PreProcessing\n",
    "\n",
    "pre_process = PreProcessing()"
   ]
  },
  {
   "cell_type": "code",
   "execution_count": 3,
   "metadata": {},
   "outputs": [],
   "source": [
    "reviews = pd.read_csv('reviews.csv')"
   ]
  },
  {
   "cell_type": "code",
   "execution_count": 4,
   "metadata": {},
   "outputs": [],
   "source": [
    "X_train, X_test, X_dev, y_train, y_test, y_dev = pre_process.set_data_splits(reviews)"
   ]
  },
  {
   "cell_type": "code",
   "execution_count": 5,
   "metadata": {},
   "outputs": [],
   "source": [
    "processed = []\n",
    "for revs in X_train:\n",
    "    processed.append(pre_process.set_n_grams(1, pre_process.stemming(revs)))"
   ]
  },
  {
   "cell_type": "code",
   "execution_count": 6,
   "metadata": {},
   "outputs": [],
   "source": [
    "test = y_train\n",
    "test = test.apply(lambda x: (x,) * 1)"
   ]
  },
  {
   "cell_type": "markdown",
   "metadata": {},
   "source": [
    "## TFIDF"
   ]
  },
  {
   "cell_type": "code",
   "execution_count": 7,
   "metadata": {},
   "outputs": [],
   "source": [
    "from tfidf_class_to_analyze import TFIDF\n",
    "tfidf = TFIDF()"
   ]
  },
  {
   "cell_type": "code",
   "execution_count": 8,
   "metadata": {},
   "outputs": [
    {
     "name": "stdout",
     "output_type": "stream",
     "text": [
      "2800 documents in total\n",
      "Terms and frequencies for document with id 1:\n",
      "{('bad',): 0.07142857142857142, ('movy',): 0.07142857142857142, ('it´s',): 0.07142857142857142, ('comply',): 0.07142857142857142, ('young',): 0.07142857142857142, ('childr',): 0.07142857142857142, ('child',): 0.07142857142857142, ('grown-ups',): 0.07142857142857142, ('saw',): 0.07142857142857142, ('i´m',): 0.07142857142857142, ('robin',): 0.07142857142857142, ('william',): 0.07142857142857142, ('fan',): 0.07142857142857142, ('disappoint',): 0.07142857142857142}\n",
      "14 terms in this document\n",
      "\n",
      "2800 queries in total\n",
      "Terms and frequencies for query with id 1:\n",
      "{'Negative': 1.0}\n",
      "1 terms in this query\n",
      "24104 terms in the shared vocabulary\n",
      "First 10:\n",
      "[('\\x10own',), (\"''\",), (\"'08\",), (\"'10\",), (\"'2001\",), (\"'28\",), (\"'30\",), (\"'30s\",), (\"'30s-early\",), (\"'40s\",)]\n",
      "2800 document vectors\n",
      "24104 terms in this document\n",
      "2800 query vectors\n",
      "24104 terms in this query\n",
      "24104 terms with idf scores\n",
      "Idf score for the word system:\n",
      "None\n",
      "2800 document vectors\n",
      "Number of idf-scored words in a particular document:\n",
      "24104\n"
     ]
    }
   ],
   "source": [
    "review_terms = {}\n",
    "label_terms = {}\n",
    "for review_id in range(len(processed)):\n",
    "    review_terms[review_id] = tfidf.get_terms(processed[review_id])\n",
    "for label_id in range(len(y_train)):\n",
    "    label_terms[label_id] = tfidf.get_terms([y_train.iloc[label_id]])\n",
    "\n",
    "\n",
    "print(f\"{len(review_terms)} documents in total\")\n",
    "d1_terms = review_terms.get(1)\n",
    "print(\"Terms and frequencies for document with id 1:\")\n",
    "print(d1_terms)\n",
    "print(f\"{len(d1_terms)} terms in this document\")\n",
    "print()\n",
    "print(f\"{len(label_terms)} queries in total\")\n",
    "q1_terms = label_terms.get(1)\n",
    "print(\"Terms and frequencies for query with id 1:\")\n",
    "print(q1_terms)\n",
    "print(f\"{len(q1_terms)} terms in this query\")\n",
    "\n",
    "\n",
    "all_terms = tfidf.collect_vocabulary(review_terms, label_terms)\n",
    "print(f\"{len(all_terms)} terms in the shared vocabulary\")\n",
    "print(\"First 10:\")\n",
    "print(all_terms[:10])\n",
    "\n",
    "\n",
    "doc_vectors = tfidf.vectorize(review_terms, all_terms)\n",
    "qry_vectors = tfidf.vectorize(label_terms, all_terms)\n",
    "\n",
    "print(f\"{len(doc_vectors)} document vectors\")\n",
    "d1460_vector = doc_vectors.get(1460)\n",
    "print(f\"{len(d1460_vector)} terms in this document\")\n",
    "print(f\"{len(qry_vectors)} query vectors\")\n",
    "q112_vector = qry_vectors.get(112)\n",
    "print(f\"{len(q112_vector)} terms in this query\")\n",
    "\n",
    "\n",
    "doc_idfs = tfidf.calculate_idfs(all_terms, review_terms)\n",
    "print(f\"{len(doc_idfs)} terms with idf scores\")\n",
    "print(\"Idf score for the word system:\")\n",
    "print(doc_idfs.get(\"system\"))\n",
    "\n",
    "doc_vectors = tfidf.vectorize_idf(review_terms, doc_idfs, all_terms)\n",
    "\n",
    "print(f\"{len(doc_vectors)} document vectors\")\n",
    "print(\"Number of idf-scored words in a particular document:\")\n",
    "print(len(doc_vectors.get(1460)))\n",
    "\n"
   ]
  },
  {
   "cell_type": "code",
   "execution_count": 12,
   "metadata": {},
   "outputs": [
    {
     "data": {
      "text/plain": [
       "2.836701823957632"
      ]
     },
     "execution_count": 12,
     "metadata": {},
     "output_type": "execute_result"
    }
   ],
   "source": [
    "sum(doc_vectors.get(123))"
   ]
  },
  {
   "cell_type": "code",
   "execution_count": 11,
   "metadata": {},
   "outputs": [
    {
     "data": {
      "text/html": [
       "<div>\n",
       "<style scoped>\n",
       "    .dataframe tbody tr th:only-of-type {\n",
       "        vertical-align: middle;\n",
       "    }\n",
       "\n",
       "    .dataframe tbody tr th {\n",
       "        vertical-align: top;\n",
       "    }\n",
       "\n",
       "    .dataframe thead th {\n",
       "        text-align: right;\n",
       "    }\n",
       "</style>\n",
       "<table border=\"1\" class=\"dataframe\">\n",
       "  <thead>\n",
       "    <tr style=\"text-align: right;\">\n",
       "      <th></th>\n",
       "      <th>review</th>\n",
       "      <th>label</th>\n",
       "      <th>score</th>\n",
       "      <th>id</th>\n",
       "    </tr>\n",
       "  </thead>\n",
       "  <tbody>\n",
       "    <tr>\n",
       "      <th>2833</th>\n",
       "      <td>Ritchie's first two films were snappy, stylish...</td>\n",
       "      <td>Negative</td>\n",
       "      <td>1</td>\n",
       "      <td>3539</td>\n",
       "    </tr>\n",
       "  </tbody>\n",
       "</table>\n",
       "</div>"
      ],
      "text/plain": [
       "                                                 review     label  score    id\n",
       "2833  Ritchie's first two films were snappy, stylish...  Negative      1  3539"
      ]
     },
     "execution_count": 11,
     "metadata": {},
     "output_type": "execute_result"
    }
   ],
   "source": [
    "reviews[reviews.review == X_train.iloc[123]]"
   ]
  },
  {
   "cell_type": "code",
   "execution_count": null,
   "metadata": {},
   "outputs": [],
   "source": []
  }
 ],
 "metadata": {
  "kernelspec": {
   "display_name": "base",
   "language": "python",
   "name": "python3"
  },
  "language_info": {
   "codemirror_mode": {
    "name": "ipython",
    "version": 3
   },
   "file_extension": ".py",
   "mimetype": "text/x-python",
   "name": "python",
   "nbconvert_exporter": "python",
   "pygments_lexer": "ipython3",
   "version": "3.11.3"
  },
  "orig_nbformat": 4
 },
 "nbformat": 4,
 "nbformat_minor": 2
}

{
 "cells": [
  {
   "cell_type": "code",
   "execution_count": 2,
   "metadata": {},
   "outputs": [],
   "source": [
    "import pandas as pd\n",
    "import numpy as np"
   ]
  },
  {
   "cell_type": "code",
   "execution_count": 66,
   "metadata": {},
   "outputs": [],
   "source": [
    "# Import Module \n",
    "import os \n",
    "\n",
    "# Folder Path \n",
    "path = \"C:/Users/giova/OneDrive/Documenti/GitHub/NLP_Coursework/data/pos\"\n",
    "\n",
    "# Change the directory \n",
    "os.chdir(path) \n",
    "\n",
    "# Read text File \n",
    "\n",
    "# iterate through all file \n",
    "pos_reviews = []\n",
    "for file in os.listdir(): \n",
    "\t# Check whether file is in text format or not \n",
    "\tif file.endswith(\".txt\"): \n",
    "\t\tfile_path = f\"{path}/{file}\"\n",
    "\t\t#print(file_path)\n",
    "\t\tf = open(file_path, \"r\", encoding=\"utf8\")\n",
    "\t\tpos_reviews.extend(f.read().split(\"<br /><br />\"))\n",
    "\t\t#print(f.read())"
   ]
  },
  {
   "cell_type": "code",
   "execution_count": 67,
   "metadata": {},
   "outputs": [],
   "source": [
    "# Import Module \n",
    "import os \n",
    "\n",
    "# Folder Path \n",
    "path = \"C:/Users/giova/OneDrive/Documenti/GitHub/NLP_Coursework/data/neg\"\n",
    "\n",
    "# Change the directory \n",
    "os.chdir(path) \n",
    "\n",
    "# Read text File \n",
    "\n",
    "\n",
    "# iterate through all file \n",
    "neg_reviews = []\n",
    "for file in os.listdir(): \n",
    "\t# Check whether file is in text format or not \n",
    "\tif file.endswith(\".txt\"): \n",
    "\t\tfile_path = f\"{path}/{file}\"\n",
    "\t\t#print(file_path)\n",
    "\t\tf = open(file_path, \"r\", encoding=\"utf8\")\n",
    "\t\tneg_reviews.extend(f.read().split(\"<br /><br />\"))\n",
    "\t\t#print(f.read())"
   ]
  },
  {
   "cell_type": "code",
   "execution_count": null,
   "metadata": {},
   "outputs": [],
   "source": []
  },
  {
   "cell_type": "code",
   "execution_count": 68,
   "metadata": {},
   "outputs": [],
   "source": [
    "pos_label = ['Positive' for i in range(len(pos_reviews))]\n",
    "neg_label = ['Negative' for i in range(len(neg_reviews))]\n"
   ]
  },
  {
   "cell_type": "code",
   "execution_count": 69,
   "metadata": {},
   "outputs": [
    {
     "data": {
      "text/html": [
       "<div>\n",
       "<style scoped>\n",
       "    .dataframe tbody tr th:only-of-type {\n",
       "        vertical-align: middle;\n",
       "    }\n",
       "\n",
       "    .dataframe tbody tr th {\n",
       "        vertical-align: top;\n",
       "    }\n",
       "\n",
       "    .dataframe thead th {\n",
       "        text-align: right;\n",
       "    }\n",
       "</style>\n",
       "<table border=\"1\" class=\"dataframe\">\n",
       "  <thead>\n",
       "    <tr style=\"text-align: right;\">\n",
       "      <th></th>\n",
       "      <th>Review</th>\n",
       "      <th>label</th>\n",
       "    </tr>\n",
       "  </thead>\n",
       "  <tbody>\n",
       "    <tr>\n",
       "      <th>0</th>\n",
       "      <td>Homelessness (or Houselessness as George Carli...</td>\n",
       "      <td>Positive</td>\n",
       "    </tr>\n",
       "    <tr>\n",
       "      <th>1</th>\n",
       "      <td>But what if you were given a bet to live on th...</td>\n",
       "      <td>Positive</td>\n",
       "    </tr>\n",
       "    <tr>\n",
       "      <th>2</th>\n",
       "      <td>Mel Brooks (who directs) who stars as Bolt pla...</td>\n",
       "      <td>Positive</td>\n",
       "    </tr>\n",
       "    <tr>\n",
       "      <th>3</th>\n",
       "      <td>While the love connection between Molly and Bo...</td>\n",
       "      <td>Positive</td>\n",
       "    </tr>\n",
       "    <tr>\n",
       "      <th>4</th>\n",
       "      <td>Or maybe this film will inspire you to help ot...</td>\n",
       "      <td>Positive</td>\n",
       "    </tr>\n",
       "    <tr>\n",
       "      <th>...</th>\n",
       "      <td>...</td>\n",
       "      <td>...</td>\n",
       "    </tr>\n",
       "    <tr>\n",
       "      <th>6103</th>\n",
       "      <td>As for the car, well the DJ's comment at the e...</td>\n",
       "      <td>Positive</td>\n",
       "    </tr>\n",
       "    <tr>\n",
       "      <th>6104</th>\n",
       "      <td>I saw this film in Winnipeg recently - appropr...</td>\n",
       "      <td>Positive</td>\n",
       "    </tr>\n",
       "    <tr>\n",
       "      <th>6105</th>\n",
       "      <td>I was very moved by the story and because I am...</td>\n",
       "      <td>Positive</td>\n",
       "    </tr>\n",
       "    <tr>\n",
       "      <th>6106</th>\n",
       "      <td>This is a really interesting movie. It is an a...</td>\n",
       "      <td>Positive</td>\n",
       "    </tr>\n",
       "    <tr>\n",
       "      <th>6107</th>\n",
       "      <td>This is the kind of film you want to see with ...</td>\n",
       "      <td>Positive</td>\n",
       "    </tr>\n",
       "  </tbody>\n",
       "</table>\n",
       "<p>6108 rows × 2 columns</p>\n",
       "</div>"
      ],
      "text/plain": [
       "                                                 Review     label\n",
       "0     Homelessness (or Houselessness as George Carli...  Positive\n",
       "1     But what if you were given a bet to live on th...  Positive\n",
       "2     Mel Brooks (who directs) who stars as Bolt pla...  Positive\n",
       "3     While the love connection between Molly and Bo...  Positive\n",
       "4     Or maybe this film will inspire you to help ot...  Positive\n",
       "...                                                 ...       ...\n",
       "6103  As for the car, well the DJ's comment at the e...  Positive\n",
       "6104  I saw this film in Winnipeg recently - appropr...  Positive\n",
       "6105  I was very moved by the story and because I am...  Positive\n",
       "6106  This is a really interesting movie. It is an a...  Positive\n",
       "6107  This is the kind of film you want to see with ...  Positive\n",
       "\n",
       "[6108 rows x 2 columns]"
      ]
     },
     "execution_count": 69,
     "metadata": {},
     "output_type": "execute_result"
    }
   ],
   "source": [
    "pos_df = pd.DataFrame(\n",
    "    {'Review': pos_reviews,\n",
    "     'label': pos_label\n",
    "    })\n",
    "pos_df"
   ]
  },
  {
   "cell_type": "code",
   "execution_count": 70,
   "metadata": {},
   "outputs": [
    {
     "data": {
      "text/html": [
       "<div>\n",
       "<style scoped>\n",
       "    .dataframe tbody tr th:only-of-type {\n",
       "        vertical-align: middle;\n",
       "    }\n",
       "\n",
       "    .dataframe tbody tr th {\n",
       "        vertical-align: top;\n",
       "    }\n",
       "\n",
       "    .dataframe thead th {\n",
       "        text-align: right;\n",
       "    }\n",
       "</style>\n",
       "<table border=\"1\" class=\"dataframe\">\n",
       "  <thead>\n",
       "    <tr style=\"text-align: right;\">\n",
       "      <th></th>\n",
       "      <th>Review</th>\n",
       "      <th>label</th>\n",
       "    </tr>\n",
       "  </thead>\n",
       "  <tbody>\n",
       "    <tr>\n",
       "      <th>0</th>\n",
       "      <td>The film is bad. There is no other way to say ...</td>\n",
       "      <td>Negative</td>\n",
       "    </tr>\n",
       "    <tr>\n",
       "      <th>1</th>\n",
       "      <td>I don't think Schrader really thought the film...</td>\n",
       "      <td>Negative</td>\n",
       "    </tr>\n",
       "    <tr>\n",
       "      <th>2</th>\n",
       "      <td>The only good thing about this film was Woody ...</td>\n",
       "      <td>Negative</td>\n",
       "    </tr>\n",
       "    <tr>\n",
       "      <th>3</th>\n",
       "      <td>As for Lauren, Lily and Kristin... Boring.</td>\n",
       "      <td>Negative</td>\n",
       "    </tr>\n",
       "    <tr>\n",
       "      <th>4</th>\n",
       "      <td>Don't see it! It is painful! Unless you are a ...</td>\n",
       "      <td>Negative</td>\n",
       "    </tr>\n",
       "    <tr>\n",
       "      <th>...</th>\n",
       "      <td>...</td>\n",
       "      <td>...</td>\n",
       "    </tr>\n",
       "    <tr>\n",
       "      <th>6544</th>\n",
       "      <td>As is typical for the Sci-Fi Originals, the lo...</td>\n",
       "      <td>Negative</td>\n",
       "    </tr>\n",
       "    <tr>\n",
       "      <th>6545</th>\n",
       "      <td>The very end, however, is quote lame.</td>\n",
       "      <td>Negative</td>\n",
       "    </tr>\n",
       "    <tr>\n",
       "      <th>6546</th>\n",
       "      <td>Although the production and Jerry Jameson's di...</td>\n",
       "      <td>Negative</td>\n",
       "    </tr>\n",
       "    <tr>\n",
       "      <th>6547</th>\n",
       "      <td>This is one of the dumbest films, I've ever se...</td>\n",
       "      <td>Negative</td>\n",
       "    </tr>\n",
       "    <tr>\n",
       "      <th>6548</th>\n",
       "      <td>There's not a single good line or character in...</td>\n",
       "      <td>Negative</td>\n",
       "    </tr>\n",
       "  </tbody>\n",
       "</table>\n",
       "<p>6549 rows × 2 columns</p>\n",
       "</div>"
      ],
      "text/plain": [
       "                                                 Review     label\n",
       "0     The film is bad. There is no other way to say ...  Negative\n",
       "1     I don't think Schrader really thought the film...  Negative\n",
       "2     The only good thing about this film was Woody ...  Negative\n",
       "3            As for Lauren, Lily and Kristin... Boring.  Negative\n",
       "4     Don't see it! It is painful! Unless you are a ...  Negative\n",
       "...                                                 ...       ...\n",
       "6544  As is typical for the Sci-Fi Originals, the lo...  Negative\n",
       "6545              The very end, however, is quote lame.  Negative\n",
       "6546  Although the production and Jerry Jameson's di...  Negative\n",
       "6547  This is one of the dumbest films, I've ever se...  Negative\n",
       "6548  There's not a single good line or character in...  Negative\n",
       "\n",
       "[6549 rows x 2 columns]"
      ]
     },
     "execution_count": 70,
     "metadata": {},
     "output_type": "execute_result"
    }
   ],
   "source": [
    "neg_df = pd.DataFrame(\n",
    "    {'Review': neg_reviews,\n",
    "     'label': neg_label\n",
    "    })\n",
    "neg_df"
   ]
  },
  {
   "cell_type": "code",
   "execution_count": 71,
   "metadata": {},
   "outputs": [],
   "source": [
    "reviews = pd.concat([pos_df, neg_df], ignore_index=True)"
   ]
  },
  {
   "cell_type": "code",
   "execution_count": 81,
   "metadata": {},
   "outputs": [],
   "source": [
    "reviews = reviews.dropna()\n",
    "reviews = reviews[reviews.Review != '']\n",
    "reviews = reviews.reset_index()\n",
    "reviews.to_csv('reviews.csv')"
   ]
  },
  {
   "cell_type": "code",
   "execution_count": 79,
   "metadata": {},
   "outputs": [],
   "source": []
  },
  {
   "cell_type": "code",
   "execution_count": 80,
   "metadata": {},
   "outputs": [
    {
     "data": {
      "text/plain": [
       "\"I love this movie. I mean the story may not be the best, but the dancing most certainly makes up for it. You get to know a little bit about each character the way THEY want you to learn about them. I just think that you won't like this movie unless you're into Broadway...\""
      ]
     },
     "execution_count": 80,
     "metadata": {},
     "output_type": "execute_result"
    }
   ],
   "source": [
    "reviews.at[378, 'Review']"
   ]
  },
  {
   "cell_type": "code",
   "execution_count": 87,
   "metadata": {},
   "outputs": [],
   "source": [
    "import sys\n",
    "os.chdir('c:/Users/giova/OneDrive/Documenti/GitHub/NLP_Coursework')"
   ]
  },
  {
   "cell_type": "code",
   "execution_count": 6,
   "metadata": {},
   "outputs": [
    {
     "name": "stdout",
     "output_type": "stream",
     "text": [
      "The review is classified as Negative.\n"
     ]
    }
   ],
   "source": [
    "from naive_bayes import NaiveBayes\n",
    "\n",
    "# Example usage:\n",
    "\n",
    "reviews = pd.read_csv('reviews.csv')\n",
    "\n",
    "# reviews = [\n",
    "#     \"This movie is fantastic! I loved every moment of it.\",\n",
    "#     \"The acting was terrible, and the plot was confusing.\",\n",
    "#     \"An absolute masterpiece, a must-watch for everyone.\",\n",
    "#     \"I couldn't stand this movie. It was a waste of time.\",\n",
    "# ]\n",
    "\n",
    "# labels = ['positive', 'negative', 'positive', 'negative']\n",
    "\n",
    "nb = NaiveBayes()\n",
    "nb.train(reviews.Review, reviews.label)\n",
    "\n",
    "test_review = \"I laughed so hard\"\n",
    "output = nb.classify(test_review)\n",
    "\n",
    "print(f\"The review is classified as {output}.\")\n"
   ]
  },
  {
   "cell_type": "code",
   "execution_count": 33,
   "metadata": {},
   "outputs": [
    {
     "name": "stdout",
     "output_type": "stream",
     "text": [
      "The review is classified as Positive.\n"
     ]
    }
   ],
   "source": [
    "\n",
    "test_review = \"very mid\"\n",
    "output = nb.classify(test_review)\n",
    "\n",
    "print(f\"The review is classified as {output}.\")"
   ]
  }
 ],
 "metadata": {
  "kernelspec": {
   "display_name": "Python 3",
   "language": "python",
   "name": "python3"
  },
  "language_info": {
   "codemirror_mode": {
    "name": "ipython",
    "version": 3
   },
   "file_extension": ".py",
   "mimetype": "text/x-python",
   "name": "python",
   "nbconvert_exporter": "python",
   "pygments_lexer": "ipython3",
   "version": "3.11.6"
  }
 },
 "nbformat": 4,
 "nbformat_minor": 2
}
